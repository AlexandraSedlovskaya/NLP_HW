{
 "cells": [
  {
   "cell_type": "code",
   "execution_count": 1,
   "metadata": {},
   "outputs": [],
   "source": [
    "positive_link = 'https://www.kinopoisk.ru/film/447301/reviews/ord/date/status/good/perpage/75/'\n",
    "negative_link = 'https://www.kinopoisk.ru/film/447301/reviews/?status=bad&ord=date&rnd=1631876404&perpage=75'"
   ]
  },
  {
   "cell_type": "code",
   "execution_count": 2,
   "metadata": {},
   "outputs": [],
   "source": [
    "import requests\n",
    "from fake_useragent import UserAgent\n",
    "from bs4 import BeautifulSoup\n",
    "from nltk.tokenize import word_tokenize\n",
    "from nltk.corpus import stopwords\n",
    "from pymorphy2 import MorphAnalyzer\n",
    "import collections\n",
    "from sklearn.metrics import accuracy_score\n",
    "\n",
    "morph = MorphAnalyzer()\n",
    "\n",
    "sw = stopwords.words('russian')"
   ]
  },
  {
   "cell_type": "code",
   "execution_count": 3,
   "metadata": {},
   "outputs": [],
   "source": [
    "ua = UserAgent(verify_ssl=False)\n",
    "headers = {'User-Agent': ua.random}\n",
    "\n",
    "pos_resp = requests.get(positive_link, headers=headers)\n",
    "neg_resp = requests.get(negative_link, headers=headers)"
   ]
  },
  {
   "cell_type": "code",
   "execution_count": 4,
   "metadata": {},
   "outputs": [],
   "source": [
    "positive_soup = BeautifulSoup(pos_resp.text, 'html.parser')\n",
    "negative_soup = BeautifulSoup(neg_resp.text, 'html.parser')"
   ]
  },
  {
   "cell_type": "code",
   "execution_count": 5,
   "metadata": {},
   "outputs": [],
   "source": [
    "pos_rev = positive_soup.find_all('span', {'itemprop': 'reviewBody'})\n",
    "neg_rev = negative_soup.find_all('span', {'itemprop': 'reviewBody'})"
   ]
  },
  {
   "cell_type": "code",
   "execution_count": 6,
   "metadata": {},
   "outputs": [],
   "source": [
    "pos_rev_train, pos_rev_test = pos_rev[:70], pos_rev[70:]\n",
    "neg_rev_train, neg_rev_test = neg_rev[:70], neg_rev[70:]"
   ]
  },
  {
   "cell_type": "code",
   "execution_count": 7,
   "metadata": {},
   "outputs": [],
   "source": [
    "def lemms(texts):\n",
    "    lemmas = []\n",
    "    for text in texts:\n",
    "        words = [w.lower() for w in word_tokenize(text.text) if w.isalpha()]\n",
    "        filtered = [w for w in words if w not in sw]\n",
    "        for word in filtered:\n",
    "            lemmas.append(morph.parse(word)[0].normal_form)\n",
    "    return lemmas"
   ]
  },
  {
   "cell_type": "code",
   "execution_count": 8,
   "metadata": {},
   "outputs": [],
   "source": [
    "def freq(words_list):\n",
    "    counter = collections.Counter()\n",
    "    for word in words_list:\n",
    "        counter[word] += 1\n",
    "    return counter"
   ]
  },
  {
   "cell_type": "code",
   "execution_count": 9,
   "metadata": {},
   "outputs": [],
   "source": [
    "pos_counter = freq(lemms(pos_rev_train))\n",
    "neg_counter = freq(lemms(neg_rev_train))"
   ]
  },
  {
   "cell_type": "code",
   "execution_count": 12,
   "metadata": {},
   "outputs": [],
   "source": [
    "new_pos_count = {}\n",
    "for item, value in pos_counter.items():\n",
    "    if item in neg_counter:\n",
    "        del neg_counter[item]\n",
    "    else:\n",
    "        new_pos_count[item] = value"
   ]
  },
  {
   "cell_type": "code",
   "execution_count": 13,
   "metadata": {},
   "outputs": [],
   "source": [
    "def review(text, pos_dict, neg_dict):\n",
    "    review = ''\n",
    "    normalized = lemms(text)\n",
    "    pos_count = 0\n",
    "    neg_count = 0\n",
    "    for word in normalized:\n",
    "        if word in pos_dict:\n",
    "            pos_count += 1\n",
    "        elif word in neg_dict:\n",
    "            neg_count += 1\n",
    "    if pos_count > neg_count:\n",
    "        review = 'positive'\n",
    "    else:\n",
    "        review = 'negative'\n",
    "    return review"
   ]
  },
  {
   "cell_type": "code",
   "execution_count": 28,
   "metadata": {},
   "outputs": [],
   "source": [
    "def test(pos_revs, neg_revs):\n",
    "    result = []\n",
    "    orig = []\n",
    "    for text in pos_revs:\n",
    "        rev = review([text], new_pos_count, neg_counter)\n",
    "        result.append(rev)\n",
    "        orig.append('positive')\n",
    "    for text in neg_revs:\n",
    "        rev = review([text], new_pos_count, neg_counter)\n",
    "        result.append(rev)\n",
    "        orig.append('negative')\n",
    "    print(\"Accuracy: %.4f\" % accuracy_score(result, orig))"
   ]
  },
  {
   "cell_type": "code",
   "execution_count": 29,
   "metadata": {},
   "outputs": [
    {
     "name": "stdout",
     "output_type": "stream",
     "text": [
      "Accuracy: 0.9000\n"
     ]
    }
   ],
   "source": [
    "test(pos_rev_test, neg_rev_test)"
   ]
  }
 ],
 "metadata": {
  "kernelspec": {
   "display_name": "Python 3",
   "language": "python",
   "name": "python3"
  },
  "language_info": {
   "codemirror_mode": {
    "name": "ipython",
    "version": 3
   },
   "file_extension": ".py",
   "mimetype": "text/x-python",
   "name": "python",
   "nbconvert_exporter": "python",
   "pygments_lexer": "ipython3",
   "version": "3.8.3"
  }
 },
 "nbformat": 4,
 "nbformat_minor": 4
}
